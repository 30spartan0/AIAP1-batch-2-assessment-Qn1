{
 "cells": [
  {
   "cell_type": "markdown",
   "metadata": {},
   "source": [
    "<br><br>\n",
    "<img src='aisg_logo.png' width=\"700px\">  \n",
    "<br>\n",
    "# AI Apprentice Programme\n",
    "## Take-home Written Assignment\n",
    "\n",
    "### Problem 1 - Programming\n",
    "Programming is the bread and butter of every data professional. Handling large quantities of data requires a good mastery of basic computer programming, especially in the case of feature engineering. Hence, our first challenge is a programming challenge.\n",
    "\n",
    "This is an algorithm question. You will be tested on your algorithm design skills, as well as your ability to write high quality code.\n",
    "\n",
    "You will be assessed on 1) the correctness of your algorithm, 2) the time complexity of your algorithm, and 3) your code quality, including tests.\n",
    "\n",
    "You should be able to complete this question in 60 minutes. However, you are not limited to this time frame."
   ]
  },
  {
   "cell_type": "markdown",
   "metadata": {},
   "source": [
    "\n",
    "### A. The Challenge\n",
    "Given a 6 or less digits positive integer (0 - 999999 inclusive), write a function `englishify(number: int)` that returns the full English equivalent of that number. Here are some samples of the structure you are expected to generate:  \n",
    "  \n",
    "| Numerical | Spelling |\n",
    "| --------- | -------------- |\n",
    "| 1 | One |\n",
    "| 22 | Twenty Two |\n",
    "| 222 | Two Hundred And Twenty Two |\n",
    "| 202 | Two Hundred And Two |\n",
    "| 1234 | One Thousand, Two Hundred and Thirty Four |\n",
    "| 4040 | Four Thousand And Forty |\n",
    "| 31337 | Thirty One Thousand, Three Hundred And Thirty Seven |\n",
    "| 55227 | Fifty Five Thousand, Two Hundred and Twenty Seven |\n",
    "| 100080 | One Hundred Thousand And Eighty |\n",
    "| 500000 | Five Hundred Thousand |\n",
    "| 609018 | Six Hundred And Nine Thousand And Eighteen |\n",
    "\n",
    "General rules:\n",
    "- No dashes/hyphens\n",
    "- Capitalise Every Word\n",
    "- Use British spelling\n",
    "- There should be a comma, but not \"And\" after the thousands, before the hundreds if both exist\n",
    "- Use \"And\" where otherwise appropriate\n",
    "- We encourage use of Python, but other languages are also accepted. \n",
    "\n",
    "If you are writing other languages, please submit them in a separate file instead. That programme should accept one parameter. We will compile that file, run it with a number as an argument."
   ]
  },
  {
   "cell_type": "code",
   "execution_count": 3,
   "metadata": {},
   "outputs": [],
   "source": [
    "# PLEASE SUBMIT YOUR CODE HERE"
    ### Function to get the English spelling of a number ###
    def englishify(number):

    #Define some common numbers to be spelt out from 0-20 & the tens in a dict:
    digits = {0: 'Zero', 1: 'One', 2:'Two', 3: 'Three', 4 : 'Four', 5 : 'Five',
           6 : 'Six', 7 : 'Seven', 8 : 'Eight', 9 : 'Nine', 10 : 'Ten',
          11 : 'Eleven', 12 : 'Twelve', 13 : 'Thirteen', 14 : 'Fourteen',
          15 : 'Fifteen', 16 : 'Sixteen', 17 : 'Seventeen', 18 : 'Eighteen',
          19 : 'Nineteen', 20 : 'Twenty',
          30 : 'Thirty', 40 : 'Forty', 50 : 'Fifty', 60 : 'Sixty',
          70 : 'Seventy', 80 : 'Eighty', 90 : 'Ninety'
          }

    #Define thousand & million
    K = 1000
    M = K * 1000


    assert(number >= 0), "Please enter positive integer" #check if is positive integer

    #Parse the integer to its constituent digits and spell accordingly:
    if (number < 20):
        return digits[number]

    if (number < 100):    #20-99 numbers
        if number % 10 == 0 :
            return digits[number]
        else:
            return digits[number//10 * 10] + ' ' + digits[number%10]

    if (number < K):      #hundreds numbers
        if number % 100 == 0:
            return digits[number//100] + ' Hundred'
        else:
            return digits[number//100] + ' Hundred And ' + englishify(number%100)

    if (number < M):      #thousands numbers
        if number % K ==0:
            return englishify(number//K) + ' Thousand'
        else:
            return englishify(number//K) + ' Thousand, ' + englishify(number%K)
    else:
        raise AssertionError("Integer is above specified range") #if integer is above 999999


   ]
  },
  {
   "cell_type": "markdown",
   "metadata": {},
   "source": [
    "### B. Testing\n",
    "You are encouraged to write out your test cases here to validate your answer. Leave the tests in the notebook, as we would like to look at your edge tests as well!"
   ]
  },
  {
   "cell_type": "code",
   "execution_count": 4,
   "metadata": {},
   "outputs": [],
   "source": [
    "# PLEASE WRITE TEST CASES HERE. YOU MAY USE MULTIPLE FIELDS."
    print(englishify(-200))
    print(englishify(3))
    print(englishify(4))
    print(englishify(7))
    print(englishify(89))
    print(englishify(57))
    print(englishify(212))
    print(englishify(478))
    print(englishify(908))
    print(englishify(5903))
    print(englishify(8923))
    print(englishify(59287))
    print(englishify(390762))
    print(englishify(982409))
    print(englishify(900006))
    print(englishify(100000002))
   ]
  },
  {
   "cell_type": "markdown",
   "metadata": {},
   "source": [
    "### C. Documentation/Explanation\n",
    "What is the computational complexity of your algorithm? Please also write a few lines explaining your thought process, or any comments. If you did not manage to score a full score, we will also use this explanation to assess your submission."
   ]
  },
  {
   "cell_type": "markdown",
   "metadata": {},
   "source": [
    "_You may write your explanation here._"
    Complexity of this algorithm is O(log(n)). The main motivation was a recursive algorithm to minimize the amount of times the function
    had to call itself. As the range of the integers was given in the problem, it was sufficient to stop at the thousands range. There are
    some cases where the expected output is not as natural especially when dealing with numbers in the high thousands and low singles
    e.g: 900006 where the output is given as 'Nine Hundred Thousand, Six'. These are the cases that need further tweaking as it should be
    'And' instead of the comma. 
   ]
  }
 ],
 "metadata": {
  "kernelspec": {
   "display_name": "Python 3",
   "language": "python",
   "name": "python3"
  },
  "language_info": {
   "codemirror_mode": {
    "name": "ipython",
    "version": 3
   },
   "file_extension": ".py",
   "mimetype": "text/x-python",
   "name": "python",
   "nbconvert_exporter": "python",
   "pygments_lexer": "ipython3",
   "version": "3.6.5"
  }
 },
 "nbformat": 4,
 "nbformat_minor": 2
}
